{
  "nbformat": 4,
  "nbformat_minor": 0,
  "metadata": {
    "colab": {
      "name": "20220316 영어음성학",
      "provenance": [],
      "authorship_tag": "ABX9TyMZgfXJGVR/HZxXnhk/LuuU",
      "include_colab_link": true
    },
    "kernelspec": {
      "name": "python3",
      "display_name": "Python 3"
    },
    "language_info": {
      "name": "python"
    }
  },
  "cells": [
    {
      "cell_type": "markdown",
      "metadata": {
        "id": "view-in-github",
        "colab_type": "text"
      },
      "source": [
        "<a href=\"https://colab.research.google.com/github/sjleee95/2022ClassSpring/blob/main/20220316_%EC%98%81%EC%96%B4%EC%9D%8C%EC%84%B1%ED%95%99.ipynb\" target=\"_parent\"><img src=\"https://colab.research.google.com/assets/colab-badge.svg\" alt=\"Open In Colab\"/></a>"
      ]
    },
    {
      "cell_type": "markdown",
      "source": [
        "Data 종류 - Text, Sound,Image. 이것을 Ai로 연결을 시킬 것이다.\n",
        "\n",
        "AI model - 함수.\n",
        "\n",
        "Input -> 함수 -> output\n",
        "\n",
        "함수는 output에 이르는 길이라고 생각하면 편할듯.\n",
        "\n",
        "변수 / 문법(조건문 if, 반복문 for) / 함수 + 패키지\n",
        "\n",
        "\n",
        "\n"
      ],
      "metadata": {
        "id": "bRFVRxlzNSHx"
      }
    },
    {
      "cell_type": "markdown",
      "source": [
        "[Variables]\n",
        "변수는 크게 두 가지. numbers / string\n",
        "\n",
        "int = 정수\n",
        "float = 실수 ( 소수점 자릿수 표기해 주면 됨 )\n",
        "\n",
        "' ?? ' -> string이 된다. \"\"을 사용해도 되고, ''를 사용해도 됨. \n",
        "\n",
        "list : 대괄호를 사용해서 여러개를 넣으면 됨.\n",
        "\n",
        "+ list, dict, tuple"
      ],
      "metadata": {
        "id": "Bj-vWjHfP1TR"
      }
    },
    {
      "cell_type": "code",
      "execution_count": null,
      "metadata": {
        "colab": {
          "base_uri": "https://localhost:8080/"
        },
        "id": "U8dXsVYWNQiL",
        "outputId": "6bad61f7-3fe4-4e32-96fe-371ba20afa98"
      },
      "outputs": [
        {
          "output_type": "stream",
          "name": "stdout",
          "text": [
            "<class 'int'>\n"
          ]
        }
      ],
      "source": [
        "a = 1 ; print(type(a))"
      ]
    },
    {
      "cell_type": "code",
      "source": [
        "a = 1.1 ; print(type(a))"
      ],
      "metadata": {
        "colab": {
          "base_uri": "https://localhost:8080/"
        },
        "id": "VrQoe1GgP-Ra",
        "outputId": "1fac286d-889c-49b3-bbf8-e3cb376e518d"
      },
      "execution_count": null,
      "outputs": [
        {
          "output_type": "stream",
          "name": "stdout",
          "text": [
            "<class 'float'>\n"
          ]
        }
      ]
    },
    {
      "cell_type": "code",
      "source": [
        "a ='123' ; print(type(a))"
      ],
      "metadata": {
        "colab": {
          "base_uri": "https://localhost:8080/"
        },
        "id": "bjV2XiVMQHSU",
        "outputId": "44e7c8ea-d193-4370-cfa7-1b86f90ce8c8"
      },
      "execution_count": null,
      "outputs": [
        {
          "output_type": "stream",
          "name": "stdout",
          "text": [
            "<class 'str'>\n"
          ]
        }
      ]
    },
    {
      "cell_type": "code",
      "source": [
        "a = 'hello' ; print(type(a)) ; print(a[1])"
      ],
      "metadata": {
        "colab": {
          "base_uri": "https://localhost:8080/"
        },
        "id": "Ay9wKPniQMBg",
        "outputId": "05c1c40f-5a06-47f6-a08f-01a28275d409"
      },
      "execution_count": null,
      "outputs": [
        {
          "output_type": "stream",
          "name": "stdout",
          "text": [
            "<class 'str'>\n",
            "e\n"
          ]
        }
      ]
    },
    {
      "cell_type": "code",
      "source": [
        "a = [1,2,3,4] ; print(type(a)) ; print(a[0])"
      ],
      "metadata": {
        "colab": {
          "base_uri": "https://localhost:8080/"
        },
        "id": "4C4BQPxSQRJK",
        "outputId": "ec91b875-0859-472c-ea80-611f1853dd99"
      },
      "execution_count": null,
      "outputs": [
        {
          "output_type": "stream",
          "name": "stdout",
          "text": [
            "<class 'list'>\n",
            "1\n"
          ]
        }
      ]
    },
    {
      "cell_type": "markdown",
      "source": [
        "각 데이터의 종류를 파악하고, 위 코드에서 대괄호 안에 있는 숫자는 정보의 위치이다. 위치의 숫자는 맨 앞에서부터, 0부터 시작한다.(list의 indexing)\n",
        "\n",
        "가장 마지막 줄에 있는 부분은 print 굳이 쓰지 않아도 됨.\n",
        "가장 처음부터 끝까지 할 때는 a[:] 이런식으로 표기하면 됨.\n",
        "두 번째에서 세번째까지 하고 싶다면, a[1:5] (5를 포함 안하기 때문.\n",
        "\n",
        "[ ? : ? ]\n",
        "= [ key : value ] (Dict에서)\n"
      ],
      "metadata": {
        "id": "lXX7hfyoQfCS"
      }
    },
    {
      "cell_type": "code",
      "source": [
        "a = [1,'a', [3, '4']]; print(type(a)); print(a[0]); print(a[1]); print(a[2]); print(a[2][1])"
      ],
      "metadata": {
        "colab": {
          "base_uri": "https://localhost:8080/"
        },
        "id": "zhaFw6kLQbTq",
        "outputId": "daad6116-c053-4357-dd08-ca1a845e6b8b"
      },
      "execution_count": null,
      "outputs": [
        {
          "output_type": "stream",
          "name": "stdout",
          "text": [
            "<class 'list'>\n",
            "1\n",
            "a\n",
            "[3, '4']\n",
            "4\n"
          ]
        }
      ]
    },
    {
      "cell_type": "code",
      "source": [
        "a =\t{\"a\": \"apple\", \"b\": \"orange\", \"c\": 2014}\n",
        "print(type(a))\n",
        "print(a[\"a\"])"
      ],
      "metadata": {
        "colab": {
          "base_uri": "https://localhost:8080/"
        },
        "id": "wlE5mgspQ7mE",
        "outputId": "6ed76a12-6f93-4ff1-e611-2007570775bc"
      },
      "execution_count": null,
      "outputs": [
        {
          "output_type": "stream",
          "name": "stdout",
          "text": [
            "<class 'dict'>\n",
            "apple\n"
          ]
        }
      ]
    },
    {
      "cell_type": "markdown",
      "source": [
        "변수 , Syntax"
      ],
      "metadata": {
        "id": "3g9SX4VAAJ-7"
      }
    },
    {
      "cell_type": "code",
      "source": [
        "s = 'abcdef'\n",
        "print(s[0], s[5], s[-1], s[-6])\n",
        "print(s[1:3], s[1:], s[:3], s[:])"
      ],
      "metadata": {
        "colab": {
          "base_uri": "https://localhost:8080/"
        },
        "id": "8crcrQXoRVje",
        "outputId": "28dad980-90b0-45d6-e14f-bcb91d67b25c"
      },
      "execution_count": null,
      "outputs": [
        {
          "output_type": "stream",
          "name": "stdout",
          "text": [
            "a f f a\n",
            "bc bcdef abc abcdef\n"
          ]
        }
      ]
    },
    {
      "cell_type": "code",
      "source": [
        "n = [100, 200, 300]\n",
        "print(n[0], n[2], n[-1], n[-3])\n",
        "print(n[1:2], n[1:], n[:2], n[:])"
      ],
      "metadata": {
        "colab": {
          "base_uri": "https://localhost:8080/"
        },
        "id": "E8-oNxfmAJKv",
        "outputId": "0a244106-bff5-422c-a2d4-82b7de78c01b"
      },
      "execution_count": null,
      "outputs": [
        {
          "output_type": "stream",
          "name": "stdout",
          "text": [
            "100 300 300 100\n",
            "[200] [200, 300] [100, 200] [100, 200, 300]\n"
          ]
        }
      ]
    },
    {
      "cell_type": "code",
      "source": [
        "len(s)"
      ],
      "metadata": {
        "colab": {
          "base_uri": "https://localhost:8080/"
        },
        "id": "VqgewoRTBmR1",
        "outputId": "12c53a24-106a-4f56-9dba-ddeac0242bb5"
      },
      "execution_count": null,
      "outputs": [
        {
          "output_type": "execute_result",
          "data": {
            "text/plain": [
              "6"
            ]
          },
          "metadata": {},
          "execution_count": 3
        }
      ]
    },
    {
      "cell_type": "markdown",
      "source": [
        "len 함수에 관해서 : len은 괄호 안 요소의 길이를 알려준다."
      ],
      "metadata": {
        "id": "VoNBI9cfBv-P"
      }
    },
    {
      "cell_type": "code",
      "source": [
        "s.upper()"
      ],
      "metadata": {
        "colab": {
          "base_uri": "https://localhost:8080/",
          "height": 36
        },
        "id": "ayvxq4L0BrJ4",
        "outputId": "a524c069-1ec5-4b54-f6d9-4b90bca91f51"
      },
      "execution_count": null,
      "outputs": [
        {
          "output_type": "execute_result",
          "data": {
            "text/plain": [
              "'ABCDEF'"
            ],
            "application/vnd.google.colaboratory.intrinsic+json": {
              "type": "string"
            }
          },
          "metadata": {},
          "execution_count": 4
        }
      ]
    },
    {
      "cell_type": "markdown",
      "source": [
        "upper은 내용물을 대문자로 바꿔주는 코드이다. "
      ],
      "metadata": {
        "id": "8YIAMgb0CVFw"
      }
    },
    {
      "cell_type": "code",
      "source": [
        "s = ' this is a house built this year./n' \t\n",
        "s"
      ],
      "metadata": {
        "colab": {
          "base_uri": "https://localhost:8080/",
          "height": 36
        },
        "id": "GbygGYUSCTl7",
        "outputId": "dbfacc83-818f-4970-ee73-ec196ff5f1f8"
      },
      "execution_count": null,
      "outputs": [
        {
          "output_type": "execute_result",
          "data": {
            "text/plain": [
              "' this is a house built this year./n'"
            ],
            "application/vnd.google.colaboratory.intrinsic+json": {
              "type": "string"
            }
          },
          "metadata": {},
          "execution_count": 6
        }
      ]
    },
    {
      "cell_type": "code",
      "source": [
        "result = s.find('house') \n",
        "result"
      ],
      "metadata": {
        "colab": {
          "base_uri": "https://localhost:8080/"
        },
        "id": "-fjshnhUDLaz",
        "outputId": "8bb7486a-81b9-4692-9cd5-44d75731f7dc"
      },
      "execution_count": null,
      "outputs": [
        {
          "output_type": "execute_result",
          "data": {
            "text/plain": [
              "11"
            ]
          },
          "metadata": {},
          "execution_count": 7
        }
      ]
    },
    {
      "cell_type": "markdown",
      "source": [
        "find는 괄호 안의 요소가 어디에서 가장 먼저 나타나는지 찾을 수 있는 방법이다."
      ],
      "metadata": {
        "id": "GmUbAFntDeoR"
      }
    },
    {
      "cell_type": "code",
      "source": [
        "s = s.strip()     \n",
        "s"
      ],
      "metadata": {
        "colab": {
          "base_uri": "https://localhost:8080/",
          "height": 36
        },
        "id": "I_r8_gRMDbcQ",
        "outputId": "dcccd096-20bd-4b2b-87e5-184c68bb8394"
      },
      "execution_count": null,
      "outputs": [
        {
          "output_type": "execute_result",
          "data": {
            "text/plain": [
              "'this is a house built this year./n'"
            ],
            "application/vnd.google.colaboratory.intrinsic+json": {
              "type": "string"
            }
          },
          "metadata": {},
          "execution_count": 8
        }
      ]
    },
    {
      "cell_type": "markdown",
      "source": [
        "whitespace를 없애준다."
      ],
      "metadata": {
        "id": "cyrPBlkfD2Kj"
      }
    },
    {
      "cell_type": "code",
      "source": [
        "tokens = s.split(' ')\n",
        "tokens"
      ],
      "metadata": {
        "colab": {
          "base_uri": "https://localhost:8080/"
        },
        "id": "9fgKMCiRD9_p",
        "outputId": "0cbc04d7-0473-4424-e678-e590f3973c36"
      },
      "execution_count": null,
      "outputs": [
        {
          "output_type": "execute_result",
          "data": {
            "text/plain": [
              "['this', 'is', 'a', 'house', 'built', 'this', 'year./n']"
            ]
          },
          "metadata": {},
          "execution_count": 11
        }
      ]
    },
    {
      "cell_type": "markdown",
      "source": [
        "빈칸 말고 다른 요소들을 나누어서 리스트로 만들어줌"
      ],
      "metadata": {
        "id": "BrjAPHWhECqF"
      }
    },
    {
      "cell_type": "code",
      "source": [
        "s = ' '.join(tokens)\n",
        "s"
      ],
      "metadata": {
        "colab": {
          "base_uri": "https://localhost:8080/",
          "height": 36
        },
        "id": "55Sh3xrcEKnL",
        "outputId": "94468361-d361-4f59-a208-fbab94107c78"
      },
      "execution_count": null,
      "outputs": [
        {
          "output_type": "execute_result",
          "data": {
            "text/plain": [
              "'this is a house built this year./n'"
            ],
            "application/vnd.google.colaboratory.intrinsic+json": {
              "type": "string"
            }
          },
          "metadata": {},
          "execution_count": 12
        }
      ]
    },
    {
      "cell_type": "markdown",
      "source": [
        ""
      ],
      "metadata": {
        "id": "IoQIchtxEYP2"
      }
    },
    {
      "cell_type": "markdown",
      "source": [
        "원 문장으로 복구"
      ],
      "metadata": {
        "id": "TqNdnBZ2ENQn"
      }
    },
    {
      "cell_type": "code",
      "source": [
        "s = s.replace('this', 'that')\n",
        "s"
      ],
      "metadata": {
        "colab": {
          "base_uri": "https://localhost:8080/",
          "height": 36
        },
        "id": "1xw5XnbADvbC",
        "outputId": "6a3c2777-4c67-4d6b-8726-ad87a7f1af8c"
      },
      "execution_count": null,
      "outputs": [
        {
          "output_type": "execute_result",
          "data": {
            "text/plain": [
              "'that is a house built that year./n'"
            ],
            "application/vnd.google.colaboratory.intrinsic+json": {
              "type": "string"
            }
          },
          "metadata": {},
          "execution_count": 13
        }
      ]
    },
    {
      "cell_type": "markdown",
      "source": [
        "단어를 바꿔주는 !"
      ],
      "metadata": {
        "id": "8ZYHrqzJEXED"
      }
    },
    {
      "cell_type": "markdown",
      "source": [
        "---------funtion\n",
        "정의하는 방법 - def함수명(입력변수1, 입력변수2):\n",
        " retun 출력변수명"
      ],
      "metadata": {
        "id": "_yQ4esThEp4w"
      }
    },
    {
      "cell_type": "code",
      "source": [
        "def add(a,b):\n",
        "  return a+b\n",
        "\n",
        "def subtract(a,b):\n",
        "  return a-b\n",
        "\n",
        "def multiply(a,b):\n",
        "  return a*b\n",
        "\n",
        "def divide(a,b):\n",
        "  return a/b"
      ],
      "metadata": {
        "id": "ZFqTQ0MRES5O"
      },
      "execution_count": null,
      "outputs": []
    },
    {
      "cell_type": "markdown",
      "source": [
        "Syntax - 반복문(for/while), 조건문(if)"
      ],
      "metadata": {
        "id": "xMEPkU7kGU3f"
      }
    },
    {
      "cell_type": "code",
      "source": [
        "a = [1, 2, 3, 4]\n",
        "for i in a:\n",
        "    print(i)"
      ],
      "metadata": {
        "colab": {
          "base_uri": "https://localhost:8080/"
        },
        "id": "j2VCJRYPExJX",
        "outputId": "22b6c1c1-c9f7-45b8-9a4a-b35e359d14a1"
      },
      "execution_count": null,
      "outputs": [
        {
          "output_type": "stream",
          "name": "stdout",
          "text": [
            "1\n",
            "2\n",
            "3\n",
            "4\n"
          ]
        }
      ]
    },
    {
      "cell_type": "markdown",
      "source": [
        "in 이후 부분부터 먼저 생각하고, i를 프린트하는 것.\n",
        "[15]는 4번 반복되어서 나타남."
      ],
      "metadata": {
        "id": "36f-zY6MHSch"
      }
    },
    {
      "cell_type": "code",
      "source": [
        "a = [1, 2, 3, 4]\n",
        "for i in range(len(a)):\n",
        "    print(a[i])"
      ],
      "metadata": {
        "colab": {
          "base_uri": "https://localhost:8080/"
        },
        "id": "SO89t4_CHzJ6",
        "outputId": "c324b5ba-e81b-4e0c-a52c-a272e76472f0"
      },
      "execution_count": null,
      "outputs": [
        {
          "output_type": "stream",
          "name": "stdout",
          "text": [
            "1\n",
            "2\n",
            "3\n",
            "4\n"
          ]
        }
      ]
    },
    {
      "cell_type": "markdown",
      "source": [
        "range로 리스트 [0, 1, 2, 3]을 만들고 순차적으로 대입한다 생각하면 된다."
      ],
      "metadata": {
        "id": "_eQ3HGwFH008"
      }
    },
    {
      "cell_type": "code",
      "source": [
        "a = ['red', 'green', 'blue', 'purple']\n",
        "for i in a:\n",
        "    print(i)"
      ],
      "metadata": {
        "colab": {
          "base_uri": "https://localhost:8080/"
        },
        "id": "DsNB6f8uHzmz",
        "outputId": "b1436d97-01e2-4398-e04c-d45977c3ce80"
      },
      "execution_count": null,
      "outputs": [
        {
          "output_type": "stream",
          "name": "stdout",
          "text": [
            "red\n",
            "green\n",
            "blue\n",
            "purple\n"
          ]
        }
      ]
    },
    {
      "cell_type": "code",
      "source": [
        "a = ['red', 'green', 'blue', 'purple']\n",
        "for i in range(len(a)):\n",
        "    print(a[i])"
      ],
      "metadata": {
        "colab": {
          "base_uri": "https://localhost:8080/"
        },
        "id": "T2d3JWG4IakH",
        "outputId": "5ae5988a-29a8-43f1-de08-8574fa701232"
      },
      "execution_count": null,
      "outputs": [
        {
          "output_type": "stream",
          "name": "stdout",
          "text": [
            "red\n",
            "green\n",
            "blue\n",
            "purple\n"
          ]
        }
      ]
    },
    {
      "cell_type": "markdown",
      "source": [
        "If !"
      ],
      "metadata": {
        "id": "NtKtmt4cIjXh"
      }
    },
    {
      "cell_type": "code",
      "source": [
        "a = 0\n",
        "if a != 0:\n",
        "    print(a)\n",
        "\n",
        "else:\n",
        "    print(a+1)"
      ],
      "metadata": {
        "colab": {
          "base_uri": "https://localhost:8080/"
        },
        "id": "2_B9U4ftIbkd",
        "outputId": "2a8fa33f-e85e-45d1-9eb9-ce1de2b5d128"
      },
      "execution_count": null,
      "outputs": [
        {
          "output_type": "stream",
          "name": "stdout",
          "text": [
            "1\n"
          ]
        }
      ]
    },
    {
      "cell_type": "markdown",
      "source": [
        "== : 변수와 같다면~\n",
        "!= : 아니라면~\n",
        "else : 이게 아니라면~\n"
      ],
      "metadata": {
        "id": "QSjiXh42Iqmz"
      }
    },
    {
      "cell_type": "code",
      "source": [
        "for i in range(1, 3):\n",
        "    for j in range(3, 5):\n",
        "        print(i*j)"
      ],
      "metadata": {
        "colab": {
          "base_uri": "https://localhost:8080/"
        },
        "id": "Tbj-gdeWIovK",
        "outputId": "ca1ec989-c383-4b1d-ecc4-c7ebf09cf706"
      },
      "execution_count": null,
      "outputs": [
        {
          "output_type": "stream",
          "name": "stdout",
          "text": [
            "3\n",
            "4\n",
            "6\n",
            "8\n"
          ]
        }
      ]
    },
    {
      "cell_type": "markdown",
      "source": [
        "2 x 2라고 생각하면 된다. 결과값은 따라서 4개."
      ],
      "metadata": {
        "id": "DRNdooGFKiFu"
      }
    },
    {
      "cell_type": "code",
      "source": [
        " for i in range(1, 3):\n",
        "    for j in range(3, 5):\n",
        "        if j >=4:\n",
        "            print(i*j)"
      ],
      "metadata": {
        "colab": {
          "base_uri": "https://localhost:8080/"
        },
        "id": "uV5mbm9EJQWl",
        "outputId": "5baa00bd-d213-47fb-c194-c08d0271b2fd"
      },
      "execution_count": null,
      "outputs": [
        {
          "output_type": "stream",
          "name": "stdout",
          "text": [
            "4\n",
            "8\n"
          ]
        }
      ]
    },
    {
      "cell_type": "markdown",
      "source": [
        "조건이 붙었고, 조건을 만족하는 것은 4,8 뿐."
      ],
      "metadata": {
        "id": "nyH-5cwcKrJl"
      }
    },
    {
      "cell_type": "code",
      "source": [
        "a = ['red', 'green', 'blue', 'purple']\n",
        "b = [i for i in a if len(i) >=4]\n",
        "b"
      ],
      "metadata": {
        "colab": {
          "base_uri": "https://localhost:8080/"
        },
        "id": "ijKaOfkuKqWf",
        "outputId": "44198983-3fc5-4b23-82a6-a49ebc92e37f"
      },
      "execution_count": null,
      "outputs": [
        {
          "output_type": "execute_result",
          "data": {
            "text/plain": [
              "['green', 'blue', 'purple']"
            ]
          },
          "metadata": {},
          "execution_count": 24
        }
      ]
    },
    {
      "cell_type": "markdown",
      "source": [
        "Import - 타인이 만들어 놓은 함수들을 가져오는 것.\n",
        "\n",
        "아래의 numpy같은 경우는 numpy 안에 있는 기능을 가져와서 쓴다는 의미.random이라는 디렉토리 안에 randn이라는 기능을 가져다 쓴다. Random number.정규분포대로 수를 만든다(?)"
      ],
      "metadata": {
        "id": "lubzvLnsTmtj"
      }
    },
    {
      "cell_type": "code",
      "source": [
        "import numpy as np\n",
        "n = np.random.randn(100)"
      ],
      "metadata": {
        "id": "DKqqCuAoLwVM"
      },
      "execution_count": null,
      "outputs": []
    },
    {
      "cell_type": "code",
      "source": [
        "import matplotlib\n",
        "matplotlib.pyplot.hist(n)"
      ],
      "metadata": {
        "colab": {
          "base_uri": "https://localhost:8080/",
          "height": 359
        },
        "id": "mYUIblAHViBI",
        "outputId": "976d63e8-63ed-4342-ee89-f29390c68ec7"
      },
      "execution_count": null,
      "outputs": [
        {
          "output_type": "execute_result",
          "data": {
            "text/plain": [
              "(array([ 4.,  4.,  9., 13., 30., 18., 11.,  7.,  2.,  2.]),\n",
              " array([-2.47306044, -1.94761393, -1.42216742, -0.89672092, -0.37127441,\n",
              "         0.1541721 ,  0.6796186 ,  1.20506511,  1.73051162,  2.25595812,\n",
              "         2.78140463]),\n",
              " <a list of 10 Patch objects>)"
            ]
          },
          "metadata": {},
          "execution_count": 28
        },
        {
          "output_type": "display_data",
          "data": {
            "text/plain": [
              "<Figure size 432x288 with 1 Axes>"
            ],
            "image/png": "[encoded data removed]"
          },
          "metadata": {
            "needs_background": "light"
          }
        }
      ]
    },
    {
      "cell_type": "markdown",
      "source": [
        "import의 다른 방법들 또한 많이 존재한다. 나에게 맞는 방법을 찾아서 사용해보도록 하자."
      ],
      "metadata": {
        "id": "mM-DJT_-V43H"
      }
    },
    {
      "cell_type": "code",
      "source": [
        "import matplotlib.pyplot as plt\n",
        "plt.hist(n)"
      ],
      "metadata": {
        "colab": {
          "base_uri": "https://localhost:8080/",
          "height": 359
        },
        "id": "vv12D4XjViTP",
        "outputId": "950221d2-82f8-4eb4-b394-a1a8edc4478b"
      },
      "execution_count": null,
      "outputs": [
        {
          "output_type": "execute_result",
          "data": {
            "text/plain": [
              "(array([ 4.,  4.,  9., 13., 30., 18., 11.,  7.,  2.,  2.]),\n",
              " array([-2.47306044, -1.94761393, -1.42216742, -0.89672092, -0.37127441,\n",
              "         0.1541721 ,  0.6796186 ,  1.20506511,  1.73051162,  2.25595812,\n",
              "         2.78140463]),\n",
              " <a list of 10 Patch objects>)"
            ]
          },
          "metadata": {},
          "execution_count": 29
        },
        {
          "output_type": "display_data",
          "data": {
            "text/plain": [
              "<Figure size 432x288 with 1 Axes>"
            ],
            "image/png": "[encoded data removed]"
          },
          "metadata": {
            "needs_background": "light"
          }
        }
      ]
    },
    {
      "cell_type": "markdown",
      "source": [
        "행렬(array) - 일단은 list를 array로 바꿔주는 작업을 한다. "
      ],
      "metadata": {
        "id": "oHsIv6MFXero"
      }
    },
    {
      "cell_type": "code",
      "source": [
        "import numpy as np"
      ],
      "metadata": {
        "id": "64Y1WfocWOqo"
      },
      "execution_count": null,
      "outputs": []
    },
    {
      "cell_type": "code",
      "source": [
        "x = np.array([1,2,3])\n",
        "print(x)\n",
        "print(type(x))\n",
        "print(x.shape)"
      ],
      "metadata": {
        "colab": {
          "base_uri": "https://localhost:8080/"
        },
        "id": "lILZY_BQXm2x",
        "outputId": "e81d7fdf-4710-46ce-e48e-93810e9f4f07"
      },
      "execution_count": null,
      "outputs": [
        {
          "output_type": "stream",
          "name": "stdout",
          "text": [
            "[1 2 3]\n",
            "<class 'numpy.ndarray'>\n",
            "(3,)\n"
          ]
        }
      ]
    },
    {
      "cell_type": "code",
      "source": [
        "x = np.arange(0,10,2)\n",
        "print(x)\n",
        "print(type(x))\n",
        "print(x.shape)"
      ],
      "metadata": {
        "colab": {
          "base_uri": "https://localhost:8080/"
        },
        "id": "xoSlZfEoXnqG",
        "outputId": "cfe37fe8-7bc1-4abb-953b-83951980f236"
      },
      "execution_count": null,
      "outputs": [
        {
          "output_type": "stream",
          "name": "stdout",
          "text": [
            "[0 2 4 6 8]\n",
            "<class 'numpy.ndarray'>\n",
            "(5,)\n"
          ]
        }
      ]
    },
    {
      "cell_type": "markdown",
      "source": [
        "0부터 10 미만까지 2의 간격으로 만드는 함수.(arange)"
      ],
      "metadata": {
        "id": "YEs7UpZYYBup"
      }
    },
    {
      "cell_type": "code",
      "source": [
        "x = np.linspace(0,10,6)\n",
        "print(x)\n",
        "print(type(x))\n",
        "print(x.shape)"
      ],
      "metadata": {
        "colab": {
          "base_uri": "https://localhost:8080/"
        },
        "id": "y_qI0Vl0YGJ8",
        "outputId": "87daccb9-a8af-4d4c-8705-4cececd6324d"
      },
      "execution_count": null,
      "outputs": [
        {
          "output_type": "stream",
          "name": "stdout",
          "text": [
            "[ 0.  2.  4.  6.  8. 10.]\n",
            "<class 'numpy.ndarray'>\n",
            "(6,)\n"
          ]
        }
      ]
    },
    {
      "cell_type": "markdown",
      "source": [
        "0부터 10까지(포함) 균등하게 나누어 총 6개의 숫자를 만들어라.(linspace)"
      ],
      "metadata": {
        "id": "mMXWMUiUYIhC"
      }
    },
    {
      "cell_type": "code",
      "source": [
        "x = np.array([[1,2,3], [4,5,6]])\n",
        "print(x)\n",
        "print(type(x))\n",
        "print(x.shape)"
      ],
      "metadata": {
        "colab": {
          "base_uri": "https://localhost:8080/"
        },
        "id": "vgTYljIaYA_I",
        "outputId": "7c229245-cda6-45ab-eb97-67d3127ffe0e"
      },
      "execution_count": null,
      "outputs": [
        {
          "output_type": "stream",
          "name": "stdout",
          "text": [
            "[[1 2 3]\n",
            " [4 5 6]]\n",
            "<class 'numpy.ndarray'>\n",
            "(2, 3)\n"
          ]
        }
      ]
    },
    {
      "cell_type": "markdown",
      "source": [
        "2D로 만들어진다.행렬이 완성됨. 2행 3열"
      ],
      "metadata": {
        "id": "UScWxwmIY7eX"
      }
    },
    {
      "cell_type": "code",
      "source": [
        "x = np.array([[[1,2,3], [4,5,6]], [[7,8,9], [10,11,12]]])\n",
        "print(x)\n",
        "print(type(x))\n",
        "print(x.shape)"
      ],
      "metadata": {
        "colab": {
          "base_uri": "https://localhost:8080/"
        },
        "id": "iCdvavNXY65j",
        "outputId": "5a0babec-7737-404f-8729-aedb5f32695d"
      },
      "execution_count": null,
      "outputs": [
        {
          "output_type": "stream",
          "name": "stdout",
          "text": [
            "[[[ 1  2  3]\n",
            "  [ 4  5  6]]\n",
            "\n",
            " [[ 7  8  9]\n",
            "  [10 11 12]]]\n",
            "<class 'numpy.ndarray'>\n",
            "(2, 2, 3)\n"
          ]
        }
      ]
    },
    {
      "cell_type": "markdown",
      "source": [
        "이것은 3D로 만들어진다. 2행3열짜리가 2개. 또한, ones와 zeros도 존재하는데, 이는 행렬의 내부 요소들을 1, 0으로 바꿔주는 것."
      ],
      "metadata": {
        "id": "LgPjx1v7ZGS5"
      }
    },
    {
      "cell_type": "markdown",
      "source": [
        "----create random numbers"
      ],
      "metadata": {
        "id": "wOK869O6ZrWr"
      }
    },
    {
      "cell_type": "code",
      "source": [
        "np.random.normal(0, 1, [2,3,4])"
      ],
      "metadata": {
        "colab": {
          "base_uri": "https://localhost:8080/"
        },
        "id": "uL6uD4qUZERy",
        "outputId": "e17c17a5-6096-452e-ee63-f9c173b0ce75"
      },
      "execution_count": null,
      "outputs": [
        {
          "output_type": "execute_result",
          "data": {
            "text/plain": [
              "array([[[-0.06817287,  0.04185778,  0.05099499,  0.93236652],\n",
              "        [-1.41027329, -0.5626899 , -0.18492542,  1.79466932],\n",
              "        [-2.33677443, -0.23322292,  1.06109148,  0.32144584]],\n",
              "\n",
              "       [[ 1.76341974, -1.12835974, -1.34021755,  0.90395408],\n",
              "        [ 1.04908084, -0.61966067, -0.48218391,  0.90554857],\n",
              "        [-0.01365988, -0.12196508, -0.11597272,  0.51100145]]])"
            ]
          },
          "metadata": {},
          "execution_count": 36
        }
      ]
    },
    {
      "cell_type": "markdown",
      "source": [
        "정규분포의 nd array 만들어주는 함수.\n",
        "normal(평균, 분포 , 행렬모양)"
      ],
      "metadata": {
        "id": "0xrYODQ1ZvtH"
      }
    },
    {
      "cell_type": "code",
      "source": [
        "import matplotlib.pyplot as plt"
      ],
      "metadata": {
        "id": "WyuBII_BZvEC"
      },
      "execution_count": null,
      "outputs": []
    },
    {
      "cell_type": "code",
      "source": [
        "x = np.random.normal(0, 1, 100)\n",
        "print(x)\n",
        "plt.hist(x, bins=10)"
      ],
      "metadata": {
        "colab": {
          "base_uri": "https://localhost:8080/",
          "height": 676
        },
        "id": "uD7vzueUaZ-5",
        "outputId": "6c73d685-ece9-431a-c757-71f251467d45"
      },
      "execution_count": null,
      "outputs": [
        {
          "output_type": "stream",
          "name": "stdout",
          "text": [
            "[-0.13241501  0.49438914 -0.76545725  1.46764508  0.40293654  0.15769379\n",
            "  0.56694923  1.6018185   0.45938303  2.97519887  0.57005129  0.21640885\n",
            "  1.2716809  -0.92951002  1.13079741 -2.23042575 -2.00793907 -0.77057999\n",
            " -0.97790129 -0.22039469 -0.42276062 -0.50119736 -0.53864485 -1.17822667\n",
            "  1.94068373 -0.45539297  0.23381566 -0.61309836 -0.40413245 -0.57430518\n",
            "  1.55754294  0.97318814 -0.80652404  0.14730065  0.25433732 -0.04518225\n",
            "  0.1166742  -0.0374579   0.74327074  1.59452157  0.62315205 -0.09210122\n",
            " -0.16912199 -0.72137021  1.64264104  1.62912864  0.18692493  1.63896682\n",
            "  0.63885037  1.7029818  -1.99547393  0.41224248  0.67056754  1.20554684\n",
            "  1.21601321 -0.31596205 -0.41156154 -1.85554287  0.30260502 -0.32602351\n",
            "  0.51681815  0.78210284 -1.35604275 -1.3818455  -0.99544932  1.11444471\n",
            "  1.13709941 -0.51903053 -1.36548161  0.21607632  0.09038548 -0.48061141\n",
            " -0.06297211 -0.58889511  0.4169178  -0.14467695 -0.1981622   0.21431227\n",
            " -0.7879276  -0.28556911 -0.48398926 -0.45250125  0.40848634  0.8059133\n",
            " -1.19112675 -0.29949264 -0.15396103 -0.5897257   2.23889701 -2.33053531\n",
            "  0.92016916  0.43318447  0.10377641  0.28915971 -0.75999708  0.65929391\n",
            "  0.60890064  3.16364025  1.12272801  0.1102223 ]\n"
          ]
        },
        {
          "output_type": "execute_result",
          "data": {
            "text/plain": [
              "(array([ 5.,  3., 11., 23., 22., 16.,  9.,  8.,  1.,  2.]),\n",
              " array([-2.33053531, -1.78111775, -1.2317002 , -0.68228264, -0.13286509,\n",
              "         0.41655247,  0.96597002,  1.51538758,  2.06480514,  2.61422269,\n",
              "         3.16364025]),\n",
              " <a list of 10 Patch objects>)"
            ]
          },
          "metadata": {},
          "execution_count": 38
        },
        {
          "output_type": "display_data",
          "data": {
            "text/plain": [
              "<Figure size 432x288 with 1 Axes>"
            ],
            "image/png": "[encoded data removed]"
          },
          "metadata": {
            "needs_background": "light"
          }
        }
      ]
    },
    {
      "cell_type": "markdown",
      "source": [
        "세로축 : 개수 가로축 : 숫자값"
      ],
      "metadata": {
        "id": "rifiwPlmar8j"
      }
    },
    {
      "cell_type": "markdown",
      "source": [
        "Generate a sine curve"
      ],
      "metadata": {
        "id": "eMcdxmXZbE9T"
      }
    },
    {
      "cell_type": "code",
      "source": [
        "plt.figure()\n",
        "\n",
        "theta1 = np.linspace(0, 2*np.pi, 100)\n",
        "s1 = np.sin(theta1)\n",
        "theta2 = np.linspace(0, 2*np.pi, 100) + np.pi/2\n",
        "s2 = np.sin(theta2)\n",
        "\n",
        "plt.subplot(2, 1, 1) # (rows, columns, panel number)\n",
        "plt.plot(theta1, s1, '.')\n",
        "plt.subplot(2, 1, 2) # (rows, columns, panel number)\n",
        "plt.plot(theta2, s2, '.')"
      ],
      "metadata": {
        "colab": {
          "base_uri": "https://localhost:8080/",
          "height": 284
        },
        "id": "b6JaMEvwacPv",
        "outputId": "ef4a8725-adc0-4d01-f039-4ce415ef1117"
      },
      "execution_count": null,
      "outputs": [
        {
          "output_type": "execute_result",
          "data": {
            "text/plain": [
              "[<matplotlib.lines.Line2D at 0x7f9de4b20290>]"
            ]
          },
          "metadata": {},
          "execution_count": 39
        },
        {
          "output_type": "display_data",
          "data": {
            "text/plain": [
              "<Figure size 432x288 with 2 Axes>"
            ],
            "image/png": "[encoded data removed]"
          },
          "metadata": {
            "needs_background": "light"
          }
        }
      ]
    },
    {
      "cell_type": "markdown",
      "source": [
        "뒤에 파이를 더해주는 이유는 시작점을 조절해주기 위해서. 1/2파이라 90도값을 움직여준 것.\n",
        "위의 100은 내부에 있는 숫자값,\n",
        "subplot 안의 입력은 (그림 수, 세로 2, 그래프의 숫자)\n"
      ],
      "metadata": {
        "id": "Wan1iaO6bH4P"
      }
    },
    {
      "cell_type": "code",
      "source": [
        "np.corrcoef(s1,s2)"
      ],
      "metadata": {
        "colab": {
          "base_uri": "https://localhost:8080/"
        },
        "id": "eibCd7cBbD8u",
        "outputId": "dc33c80d-3856-4813-c586-03221641edc6"
      },
      "execution_count": null,
      "outputs": [
        {
          "output_type": "execute_result",
          "data": {
            "text/plain": [
              "array([[1.00000000e+00, 2.41915449e-17],\n",
              "       [2.41915449e-17, 1.00000000e+00]])"
            ]
          },
          "metadata": {},
          "execution_count": 40
        }
      ]
    },
    {
      "cell_type": "markdown",
      "source": [
        "둘 간의 corelation을 알아볼 수 있음"
      ],
      "metadata": {
        "id": "-upnvVNRdoLS"
      }
    },
    {
      "cell_type": "code",
      "source": [
        ""
      ],
      "metadata": {
        "id": "akflTE5LdnCU"
      },
      "execution_count": null,
      "outputs": []
    }
  ]
}