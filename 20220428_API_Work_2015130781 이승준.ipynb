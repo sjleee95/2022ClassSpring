{
  "nbformat": 4,
  "nbformat_minor": 0,
  "metadata": {
    "colab": {
      "name": "20220428_API Work",
      "provenance": [],
      "collapsed_sections": [],
      "authorship_tag": "ABX9TyPxYfcM+MpE7ZUV12eCkv7t",
      "include_colab_link": true
    },
    "kernelspec": {
      "name": "python3",
      "display_name": "Python 3"
    },
    "language_info": {
      "name": "python"
    }
  },
  "cells": [
    {
      "cell_type": "markdown",
      "metadata": {
        "id": "view-in-github",
        "colab_type": "text"
      },
      "source": [
        "<a href=\"https://colab.research.google.com/github/sjleee95/2022ClassSpring/blob/main/20220428_API_Work_2015130781%20%EC%9D%B4%EC%8A%B9%EC%A4%80.ipynb\" target=\"_parent\"><img src=\"https://colab.research.google.com/assets/colab-badge.svg\" alt=\"Open In Colab\"/></a>"
      ]
    },
    {
      "cell_type": "code",
      "execution_count": null,
      "metadata": {
        "id": "i48GieSrxBit"
      },
      "outputs": [],
      "source": [
        "!pip install gradio\n",
        "import gradio as gr\n",
        "import requests\n",
        "import pandas as pd"
      ]
    },
    {
      "cell_type": "code",
      "source": [
        "URL = ('http://apis.data.go.kr/6300000/videoDataService/videoDataListJson?serviceKey=Cjpc1xlHCXfvPuUNkVm%2BUQ67nzm2lBAqETps2RyAk1mW356PXfasRAgtGDWXzK7VeX8yNSB2X%2BaPzMT%2FCRJ%2FQg%3D%3D&numOfRows=10&pageNo=1')\n",
        "response = requests.get(URL)"
      ],
      "metadata": {
        "id": "cSv3z3oY3gK0"
      },
      "execution_count": null,
      "outputs": []
    },
    {
      "cell_type": "code",
      "source": [
        "response"
      ],
      "metadata": {
        "colab": {
          "base_uri": "https://localhost:8080/"
        },
        "id": "q8ijGW354H5U",
        "outputId": "a7276f26-39f0-473f-d65b-571fa852e7c3"
      },
      "execution_count": null,
      "outputs": [
        {
          "output_type": "execute_result",
          "data": {
            "text/plain": [
              "<Response [200]>"
            ]
          },
          "metadata": {},
          "execution_count": 3
        }
      ]
    },
    {
      "cell_type": "code",
      "source": [
        "r = response.json()\n",
        "r"
      ],
      "metadata": {
        "id": "5bmH2MdA8mvH"
      },
      "execution_count": null,
      "outputs": []
    },
    {
      "cell_type": "code",
      "source": [
        "items = r['msgBody']\n",
        "items"
      ],
      "metadata": {
        "id": "1xDwmAsc9a_M"
      },
      "execution_count": null,
      "outputs": []
    },
    {
      "cell_type": "code",
      "source": [
        "\n",
        "\n",
        "detailURL = [item['detailUrl'] for item in items]\n",
        "hitcount = [item['hitcount'] for item in items]\n",
        "mkDate = [item['mkDate'] for item in items]\n",
        "ocode = [item['ocode'] for item in items]\n",
        "playtime = [item['playtime'] for item in items]\n",
        "thumnailPath = [item['thumnailPath'] for item in items]\n",
        "title = [item['title'] for item in items]\n",
        "\n",
        "detailURL = pd.Series(detailURL)\n",
        "hitcount = pd.Series(hitcount)\n",
        "mkDate = pd.Series(mkDate)\n",
        "ocode = pd.Series(ocode)\n",
        "playtime = pd.Series(playtime)\n",
        "thumnailPath = pd.Series(thumnailPath)\n",
        "title = pd.Series(title)\n",
        "\n",
        "df = pd.DataFrame({ '주소' : detailURL, '조회수' : hitcount , '등록일' : mkDate , '대전뉴스 일련번호' : ocode , '재생시간' : playtime , '썸네일 경로' : thumnailPath , '제목' : title})\n",
        "\n"
      ],
      "metadata": {
        "id": "nVpVv5QkBGbQ"
      },
      "execution_count": null,
      "outputs": []
    },
    {
      "cell_type": "code",
      "source": [
        ""
      ],
      "metadata": {
        "id": "XoyQPDPaKT9X"
      },
      "execution_count": null,
      "outputs": []
    },
    {
      "cell_type": "code",
      "source": [
        "def test(info):\n",
        "  URL = ('http://apis.data.go.kr/6300000/videoDataService/videoDataListJson?'\n",
        "  '&'+info+''\n",
        "  '&serviceKey=Cjpc1xlHCXfvPuUNkVm%2BUQ67nzm2lBAqETps2RyAk1mW356PXfasRAgtGDWXzK7VeX8yNSB2X%2BaPzMT%2FCRJ%2FQg%3D%3D&numOfRows=10&pageNo=1')\n",
        "  response = requests.get(URL)\n",
        "  r = response.json()\n",
        "  items = r['msgBody']\n",
        "\n",
        "  detailURL = [item['detailUrl'] for item in items]\n",
        "  hitcount = [item['hitcount'] for item in items]\n",
        "  mkDate = [item['mkDate'] for item in items]\n",
        "  ocode = [item['ocode'] for item in items]\n",
        "  playtime = [item['playtime'] for item in items]\n",
        "  thumnailPath = [item['thumnailPath'] for item in items]\n",
        "  title = [item['title'] for item in items]\n",
        "  \n",
        "  detailURL = pd.Series(detailURL)\n",
        "  hitcount = pd.Series(hitcount)\n",
        "  mkDate = pd.Series(mkDate)\n",
        "  ocode = pd.Series(ocode)\n",
        "  playtime = pd.Series(playtime)\n",
        "  thumnailPath = pd.Series(thumnailPath)\n",
        "  title = pd.Series(title)\n",
        "  \n",
        "  df = pd.DataFrame({ '주소' : detailURL, '조회수' : hitcount , '등록일' : mkDate , '일련번호' : ocode , '재생시간' : playtime , '썸네일 경로' : thumnailPath , '제목' : title})\n",
        "  return df"
      ],
      "metadata": {
        "id": "HzdIP7lHKz3f"
      },
      "execution_count": null,
      "outputs": []
    },
    {
      "cell_type": "code",
      "source": [
        "iface = gr.Interface(test, gr.inputs.Dropdown(['전체', '대전']), outputs=['dataframe'])\n",
        "iface.launch(debug=True)"
      ],
      "metadata": {
        "id": "S7nNqTh8bDdh",
        "colab": {
          "base_uri": "https://localhost:8080/",
          "height": 595
        },
        "outputId": "0eb61288-39a1-47d3-9917-ea1601fe4270"
      },
      "execution_count": null,
      "outputs": [
        {
          "output_type": "stream",
          "name": "stdout",
          "text": [
            "Colab notebook detected. This cell will run indefinitely so that you can see errors and logs. To turn off, set debug=False in launch().\n",
            "Running on public URL: https://36270.gradio.app\n",
            "\n",
            "This share link expires in 72 hours. For free permanent hosting, check out Spaces (https://huggingface.co/spaces)\n"
          ]
        },
        {
          "output_type": "display_data",
          "data": {
            "text/plain": [
              "<IPython.lib.display.IFrame at 0x7f3d20772dd0>"
            ],
            "text/html": [
              "\n",
              "        <iframe\n",
              "            width=\"900\"\n",
              "            height=\"500\"\n",
              "            src=\"https://36270.gradio.app\"\n",
              "            frameborder=\"0\"\n",
              "            allowfullscreen\n",
              "        ></iframe>\n",
              "        "
            ]
          },
          "metadata": {}
        }
      ]
    },
    {
      "cell_type": "code",
      "source": [
        ""
      ],
      "metadata": {
        "id": "66fGMqQWkBRr"
      },
      "execution_count": null,
      "outputs": []
    }
  ]
}