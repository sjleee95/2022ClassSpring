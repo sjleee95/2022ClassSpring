{
  "nbformat": 4,
  "nbformat_minor": 0,
  "metadata": {
    "colab": {
      "name": "20220425",
      "provenance": [],
      "authorship_tag": "ABX9TyMPJVR3gjQMIS/XcNxwcGCI",
      "include_colab_link": true
    },
    "kernelspec": {
      "name": "python3",
      "display_name": "Python 3"
    },
    "language_info": {
      "name": "python"
    }
  },
  "cells": [
    {
      "cell_type": "markdown",
      "metadata": {
        "id": "view-in-github",
        "colab_type": "text"
      },
      "source": [
        "<a href=\"https://colab.research.google.com/github/sjleee95/2022ClassSpring/blob/main/20220425.ipynb\" target=\"_parent\"><img src=\"https://colab.research.google.com/assets/colab-badge.svg\" alt=\"Open In Colab\"/></a>"
      ]
    },
    {
      "cell_type": "code",
      "execution_count": null,
      "metadata": {
        "id": "dhJ0g2lFuQ5Y"
      },
      "outputs": [],
      "source": [
        ""
      ]
    },
    {
      "cell_type": "markdown",
      "source": [
        "Autocorrelation function. [자기 상관 함수]\n",
        "\n",
        "\n",
        "시간축을 기준으로, 어떠한 무작위의 신호가 두 시각에 취하는 값들 사이의 상관관계를 나타낸 함수를 자기 상관 함수라고 부른다. t라는 변수를 이용해 임의의 신호(P(t)), (P(t))를 임의 시간(t)만큼 지연시킨 신호 (P(t+t)의 상관관계를 확인한다.\n",
        "\n",
        "RMS\n",
        "\n",
        "\n",
        "실효 출력이라는 의미를 가지고 있기도 하지만, 수학적 정의는 이렇다.\n",
        "\n",
        "“일련의 값들(혹은 연속시간 파형)에 대한 제곱평균제곱근은 원래의 값(혹은 연속시간 파형을 정의하는 함수의 제곱)의 제곱들에 대한 산술평균(평균)의 제곱근이다.”\n",
        "\n",
        "변화하는 값의 크기에 대한 통계적 척도인데, sin함수와 같은 파형 함수들에서 유용하게 사용된다. \n",
        "\n",
        "\n"
      ],
      "metadata": {
        "id": "5nC3FN1FuSsq"
      }
    },
    {
      "cell_type": "code",
      "source": [
        ""
      ],
      "metadata": {
        "id": "OVnSv_YiuT5e"
      },
      "execution_count": null,
      "outputs": []
    }
  ]
}